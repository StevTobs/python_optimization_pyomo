{
  "nbformat": 4,
  "nbformat_minor": 0,
  "metadata": {
    "kernelspec": {
      "display_name": "Python 3",
      "language": "python",
      "name": "python3"
    },
    "language_info": {
      "codemirror_mode": {
        "name": "ipython",
        "version": 3
      },
      "file_extension": ".py",
      "mimetype": "text/x-python",
      "name": "python",
      "nbconvert_exporter": "python",
      "pygments_lexer": "ipython3",
      "version": "3.7.6"
    },
    "colab": {
      "name": "Example_I.ipynb",
      "provenance": [],
      "toc_visible": true,
      "include_colab_link": true
    }
  },
  "cells": [
    {
      "cell_type": "markdown",
      "metadata": {
        "id": "view-in-github",
        "colab_type": "text"
      },
      "source": [
        "<a href=\"https://colab.research.google.com/github/StevTobs/python_optimization_pyomo/blob/main/Example_I.ipynb\" target=\"_parent\"><img src=\"https://colab.research.google.com/assets/colab-badge.svg\" alt=\"Open In Colab\"/></a>"
      ]
    },
    {
      "cell_type": "markdown",
      "metadata": {
        "id": "eK6x6w_7xpp-"
      },
      "source": [
        "# Optimization using Pyomo\n",
        "\n",
        "__Installation__\n",
        "\n",
        "<blockquote>\n",
        "<p>conda install -c conda-forge pyomo</p>\n",
        "</blockquote>"
      ]
    },
    {
      "cell_type": "markdown",
      "metadata": {
        "id": "-ZLxP5AgxpqE"
      },
      "source": [
        "\n",
        "Suppose you want to solve the following simple example\n",
        "\n",
        "$\\qquad\\max\\limits_{x} 2x_1 +3x_2$\n",
        "\n",
        "$\\qquad x_1 +2 x_2 \\leq 8$\n",
        "\n",
        "$\\qquad  4x_1 - x_2 \\leq 2$\n",
        "\n",
        "$\\qquad x_1, x_2 \\leq 0$\n",
        "\n",
        "We need to define two decision variables $x1$ and $x2$ and also two constraints (the code is as follows )"
      ]
    },
    {
      "cell_type": "code",
      "metadata": {
        "id": "OlYI6SCaxpqF"
      },
      "source": [
        "from pyomo.environ import *"
      ],
      "execution_count": null,
      "outputs": []
    },
    {
      "cell_type": "code",
      "metadata": {
        "id": "Fb91dkcZxpqF"
      },
      "source": [
        "model = AbstractModel() \n",
        "# model = ConcreteModel() : Advanced Model e.g., Numerical Method"
      ],
      "execution_count": null,
      "outputs": []
    },
    {
      "cell_type": "markdown",
      "metadata": {
        "id": "xnkdfr3CxpqG"
      },
      "source": [
        "__Create constraints $x_1, x_2 \\in \\{1,...,100\\}$ and $x_1, x_2 \\geq 0$ as:__\n",
        "<blockquote>\n",
        "<p>model.x1 = Var(bounds=(0,100) , within=NonNegativeReals) </p>\n",
        "   <p>model.x2 = Var(bounds=(0,100) , within=NonNegativeReals) </p>\n",
        "</blockquote>\n"
      ]
    },
    {
      "cell_type": "code",
      "metadata": {
        "id": "h_VCedCExpqG"
      },
      "source": [
        "model.x1 = Var(bounds=(0,100) , within=NonNegativeReals) \n",
        "model.x2 = Var(bounds=(0,100) , within=NonNegativeReals) "
      ],
      "execution_count": null,
      "outputs": []
    },
    {
      "cell_type": "markdown",
      "metadata": {
        "id": "5UbJsh2jxpqG"
      },
      "source": [
        "__Create variables \n",
        "$x_1 + 2x_2 \\leq 8$ as:__\n",
        "<blockquote>\n",
        "<p>model.con1 = Constraint(expr = model.x1 - 2*model.x2 <= 8) </p>\n",
        "</blockquote>"
      ]
    },
    {
      "cell_type": "code",
      "metadata": {
        "id": "66BXR450xpqG"
      },
      "source": [
        "model.con1 = Constraint(expr = model.x1 - 2*model.x2 <= 8) "
      ],
      "execution_count": null,
      "outputs": []
    },
    {
      "cell_type": "markdown",
      "metadata": {
        "id": "-s8TbuWAxpqH"
      },
      "source": [
        "__Create constriant $4x_1 - x_2 \\leq 2$ as:__\n",
        "<blockquote>\n",
        "<p>model.con2 = Constraint(expr = 4*model.x1-model.x2 <= 2)  </p>\n",
        "</blockquote>"
      ]
    },
    {
      "cell_type": "code",
      "metadata": {
        "id": "MIBo9phYxpqH"
      },
      "source": [
        "model.con2 = Constraint(expr=4*model.x1-model.x2 <= 2) "
      ],
      "execution_count": null,
      "outputs": []
    },
    {
      "cell_type": "markdown",
      "metadata": {
        "id": "kv89S240xpqH"
      },
      "source": [
        "__Objective function__:  $\\max\\limits_{x} 2x_1 +3x_2$"
      ]
    },
    {
      "cell_type": "code",
      "metadata": {
        "id": "_jsZ4hdfxpqH"
      },
      "source": [
        "def obj_rule(model): return 2*model.x1+3*model.x2 \n",
        "model.OF = Objective(rule=obj_rule,sense=maximize)"
      ],
      "execution_count": null,
      "outputs": []
    },
    {
      "cell_type": "markdown",
      "metadata": {
        "id": "BaBT54FVxpqI"
      },
      "source": [
        "__Solver selection: 'glpk'__"
      ]
    },
    {
      "cell_type": "code",
      "metadata": {
        "id": "wI6Zq_8expqI",
        "outputId": "b2a0eabe-3675-490e-83e3-26ec3138004e"
      },
      "source": [
        "opt = SolverFactory('glpk')\n",
        "instance = model.create_instance()\n",
        "results = opt.solve(instance) "
      ],
      "execution_count": null,
      "outputs": [
        {
          "output_type": "stream",
          "text": [
            "WARNING: Empty constraint block written in LP format - solver may error\n"
          ],
          "name": "stdout"
        }
      ]
    },
    {
      "cell_type": "markdown",
      "metadata": {
        "id": "6yxblQW5xpqJ"
      },
      "source": [
        "__Result__"
      ]
    },
    {
      "cell_type": "code",
      "metadata": {
        "id": "xxkvPJ9_xpqJ",
        "outputId": "e6f4277c-e901-48e1-f14b-7760209b36b4"
      },
      "source": [
        "print('X1=',round(value(instance.x1),2))\n",
        "print('X2=',round(value(instance.x2),2))\n",
        "print('OF=',round(value(instance.OF),2))"
      ],
      "execution_count": null,
      "outputs": [
        {
          "output_type": "stream",
          "text": [
            "X1= 100.0\n",
            "X2= 100.0\n",
            "OF= 500.0\n"
          ],
          "name": "stdout"
        }
      ]
    },
    {
      "cell_type": "markdown",
      "metadata": {
        "id": "EJ5PDh_XxpqJ"
      },
      "source": [
        "__Feasible Solution Checking__"
      ]
    },
    {
      "cell_type": "code",
      "metadata": {
        "id": "8hZDwRq8xpqK",
        "outputId": "6b19bd1d-69ef-442f-c1e6-9b0d4e03c76d"
      },
      "source": [
        "if (results.solver.status == SolverStatus.ok) and (results.solver.termination_condition == TerminationCondition.optimal):\n",
        "    print('feasible')\n",
        "elif (results.solver.termination_condition == TerminationCondition.infeasible):\n",
        "    print('infeasible')\n",
        "else:\n",
        "    print ('Solver Status:',  result.solver.status)"
      ],
      "execution_count": null,
      "outputs": [
        {
          "output_type": "stream",
          "text": [
            "feasible\n"
          ],
          "name": "stdout"
        }
      ]
    },
    {
      "cell_type": "code",
      "metadata": {
        "id": "2CdQ_rLyxpqK",
        "outputId": "0120b8bd-6e6e-4068-f08d-5940f15e51c5"
      },
      "source": [
        "instance.pprint()"
      ],
      "execution_count": null,
      "outputs": [
        {
          "output_type": "stream",
          "text": [
            "2 Var Declarations\n",
            "    x1 : Size=1, Index=None\n",
            "        Key  : Lower : Value : Upper : Fixed : Stale : Domain\n",
            "        None :     0 : 100.0 :   100 : False : False : NonNegativeReals\n",
            "    x2 : Size=1, Index=None\n",
            "        Key  : Lower : Value : Upper : Fixed : Stale : Domain\n",
            "        None :     0 : 100.0 :   100 : False : False : NonNegativeReals\n",
            "\n",
            "1 Objective Declarations\n",
            "    OF : Size=1, Index=None, Active=True\n",
            "        Key  : Active : Sense    : Expression\n",
            "        None :   True : maximize : 2*x1 + 3*x2\n",
            "\n",
            "3 Declarations: x1 x2 OF\n"
          ],
          "name": "stdout"
        }
      ]
    },
    {
      "cell_type": "code",
      "metadata": {
        "id": "wUfb7VV8xpqK",
        "outputId": "40cc4c73-3c23-45c8-d892-7d47e81d466c"
      },
      "source": [
        "results.write()"
      ],
      "execution_count": null,
      "outputs": [
        {
          "output_type": "stream",
          "text": [
            "# ==========================================================\n",
            "# = Solver Results                                         =\n",
            "# ==========================================================\n",
            "# ----------------------------------------------------------\n",
            "#   Problem Information\n",
            "# ----------------------------------------------------------\n",
            "Problem: \n",
            "- Name: unknown\n",
            "  Lower bound: 500.0\n",
            "  Upper bound: 500.0\n",
            "  Number of objectives: 1\n",
            "  Number of constraints: 1\n",
            "  Number of variables: 3\n",
            "  Number of nonzeros: 1\n",
            "  Sense: maximize\n",
            "# ----------------------------------------------------------\n",
            "#   Solver Information\n",
            "# ----------------------------------------------------------\n",
            "Solver: \n",
            "- Status: ok\n",
            "  Termination condition: optimal\n",
            "  Statistics: \n",
            "    Branch and bound: \n",
            "      Number of bounded subproblems: 0\n",
            "      Number of created subproblems: 0\n",
            "  Error rc: 0\n",
            "  Time: 0.03499865531921387\n",
            "# ----------------------------------------------------------\n",
            "#   Solution Information\n",
            "# ----------------------------------------------------------\n",
            "Solution: \n",
            "- number of solutions: 0\n",
            "  number of solutions displayed: 0\n"
          ],
          "name": "stdout"
        }
      ]
    },
    {
      "cell_type": "code",
      "metadata": {
        "id": "l8g_VScdxpqK"
      },
      "source": [
        ""
      ],
      "execution_count": null,
      "outputs": []
    }
  ]
}