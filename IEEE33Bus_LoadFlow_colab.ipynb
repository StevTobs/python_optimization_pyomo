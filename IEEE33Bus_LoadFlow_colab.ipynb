{
  "nbformat": 4,
  "nbformat_minor": 0,
  "metadata": {
    "kernelspec": {
      "display_name": "Python 3",
      "language": "python",
      "name": "python3"
    },
    "language_info": {
      "codemirror_mode": {
        "name": "ipython",
        "version": 3
      },
      "file_extension": ".py",
      "mimetype": "text/x-python",
      "name": "python",
      "nbconvert_exporter": "python",
      "pygments_lexer": "ipython3",
      "version": "3.7.6"
    },
    "colab": {
      "name": "Copy of IEEE33Bus_LoadFlow_colab.ipynb",
      "provenance": [],
      "include_colab_link": true
    }
  },
  "cells": [
    {
      "cell_type": "markdown",
      "metadata": {
        "id": "view-in-github",
        "colab_type": "text"
      },
      "source": [
        "<a href=\"https://colab.research.google.com/github/StevTobs/python_optimization_pyomo/blob/main/IEEE33Bus_LoadFlow_colab.ipynb\" target=\"_parent\"><img src=\"https://colab.research.google.com/assets/colab-badge.svg\" alt=\"Open In Colab\"/></a>"
      ]
    },
    {
      "cell_type": "markdown",
      "metadata": {
        "id": "J9LE7k2nJtwf"
      },
      "source": [
        "# Load Flow Analysis on IEEE 33 Bus test system"
      ]
    },
    {
      "cell_type": "code",
      "metadata": {
        "id": "xtrwdbYAJvjp"
      },
      "source": [
        "# !pip install pypsa\n",
        "!pip install -U -q PyDrive\n",
        "# !pip install -q pyomo"
      ],
      "execution_count": null,
      "outputs": []
    },
    {
      "cell_type": "code",
      "metadata": {
        "id": "nqnb4my9Jtwn"
      },
      "source": [
        "import numpy as np\n",
        "import pandas as pd\n",
        "import pypsa\n",
        "\n",
        "\n",
        "from pydrive.auth import GoogleAuth \n",
        "from pydrive.drive import GoogleDrive \n",
        "from google.colab import auth \n",
        "from oauth2client.client import GoogleCredentials \n",
        "\n"
      ],
      "execution_count": null,
      "outputs": []
    },
    {
      "cell_type": "markdown",
      "metadata": {
        "id": "NtLzhNbGJtwo"
      },
      "source": [
        "## Load data"
      ]
    },
    {
      "cell_type": "code",
      "metadata": {
        "id": "NSBWzD8MJtwp"
      },
      "source": [
        "#Authenticate and create the PyDrive client. \n",
        "auth.authenticate_user() \n",
        "gauth = GoogleAuth() \n",
        "gauth.credentials = GoogleCredentials.get_application_default() \n",
        "drive = GoogleDrive(gauth) \n",
        "\n",
        "\n",
        "# https://drive.google.com/file/d/1G6ssH-4Au0u0H1BbqAQq77GkE1meoXKi/view?usp=sharing\n",
        "your_module = drive.CreateFile({'id':'1G6ssH-4Au0u0H1BbqAQq77GkE1meoXKi'}) \n",
        "your_module.GetContentFile('33BusTest-line.csv')\n",
        "line_data = pd.read_csv(\"33BusTest-line.csv\", names=['No','FormBus','ToBus','R','X'] ).dropna(axis=1)\n",
        "line_data.set_index('No',inplace=True)\n",
        "\n",
        "\n",
        "# https://drive.google.com/file/d/1AbmF9wFDhrXykr38XJ9iUD20cNPVfKRE/view?usp=sharing\n",
        "your_module = drive.CreateFile({'id':'1AbmF9wFDhrXykr38XJ9iUD20cNPVfKRE'}) \n",
        "your_module.GetContentFile('33BusTest-load.csv')\n",
        "load_data = pd.read_csv(\"33BusTest-load.csv\").dropna(axis=1)\n",
        "load_data.columns =['BusID','P_KW','Q_KVAr']\n",
        "\n",
        "# load_data.set_index('BusID',inplace=True)\n"
      ],
      "execution_count": null,
      "outputs": []
    },
    {
      "cell_type": "code",
      "metadata": {
        "id": "QFtV7VueJtwq"
      },
      "source": [
        "#Converse to Per-Unit\n",
        "\n",
        "\n",
        "MVA_base = 100.0; # Defining the Base-MVA\n",
        "KV_base = 12.66;\n",
        "Z_base = KV_base * KV_base / MVA_base;\n",
        "\n",
        "line_data.R = line_data.R / Z_base\n",
        "line_data.X = line_data.X / Z_base\n",
        "\n",
        "load_data.P_KW = load_data.P_KW/MVA_base/1000\n",
        "load_data.Q_KVAr = load_data.Q_KVAr/MVA_base/1000\n"
      ],
      "execution_count": null,
      "outputs": []
    },
    {
      "cell_type": "code",
      "metadata": {
        "colab": {
          "base_uri": "https://localhost:8080/",
          "height": 223
        },
        "id": "2KJKBBH1Jtwq",
        "outputId": "a7393ef2-c339-408e-f3fc-b727ec91fea4"
      },
      "source": [
        "line_data.head()"
      ],
      "execution_count": null,
      "outputs": [
        {
          "output_type": "execute_result",
          "data": {
            "text/html": [
              "<div>\n",
              "<style scoped>\n",
              "    .dataframe tbody tr th:only-of-type {\n",
              "        vertical-align: middle;\n",
              "    }\n",
              "\n",
              "    .dataframe tbody tr th {\n",
              "        vertical-align: top;\n",
              "    }\n",
              "\n",
              "    .dataframe thead th {\n",
              "        text-align: right;\n",
              "    }\n",
              "</style>\n",
              "<table border=\"1\" class=\"dataframe\">\n",
              "  <thead>\n",
              "    <tr style=\"text-align: right;\">\n",
              "      <th></th>\n",
              "      <th>FormBus</th>\n",
              "      <th>ToBus</th>\n",
              "      <th>R</th>\n",
              "      <th>X</th>\n",
              "    </tr>\n",
              "    <tr>\n",
              "      <th>No</th>\n",
              "      <th></th>\n",
              "      <th></th>\n",
              "      <th></th>\n",
              "      <th></th>\n",
              "    </tr>\n",
              "  </thead>\n",
              "  <tbody>\n",
              "    <tr>\n",
              "      <th>1</th>\n",
              "      <td>1</td>\n",
              "      <td>2</td>\n",
              "      <td>0.057526</td>\n",
              "      <td>0.029324</td>\n",
              "    </tr>\n",
              "    <tr>\n",
              "      <th>2</th>\n",
              "      <td>2</td>\n",
              "      <td>3</td>\n",
              "      <td>0.307595</td>\n",
              "      <td>0.156668</td>\n",
              "    </tr>\n",
              "    <tr>\n",
              "      <th>3</th>\n",
              "      <td>3</td>\n",
              "      <td>4</td>\n",
              "      <td>0.228357</td>\n",
              "      <td>0.116300</td>\n",
              "    </tr>\n",
              "    <tr>\n",
              "      <th>4</th>\n",
              "      <td>4</td>\n",
              "      <td>5</td>\n",
              "      <td>0.237778</td>\n",
              "      <td>0.121104</td>\n",
              "    </tr>\n",
              "    <tr>\n",
              "      <th>5</th>\n",
              "      <td>5</td>\n",
              "      <td>6</td>\n",
              "      <td>0.510995</td>\n",
              "      <td>0.441115</td>\n",
              "    </tr>\n",
              "  </tbody>\n",
              "</table>\n",
              "</div>"
            ],
            "text/plain": [
              "    FormBus  ToBus         R         X\n",
              "No                                    \n",
              "1         1      2  0.057526  0.029324\n",
              "2         2      3  0.307595  0.156668\n",
              "3         3      4  0.228357  0.116300\n",
              "4         4      5  0.237778  0.121104\n",
              "5         5      6  0.510995  0.441115"
            ]
          },
          "metadata": {
            "tags": []
          },
          "execution_count": 10
        }
      ]
    },
    {
      "cell_type": "code",
      "metadata": {
        "id": "uh4W5SaqJtwr"
      },
      "source": [
        ""
      ],
      "execution_count": null,
      "outputs": []
    },
    {
      "cell_type": "code",
      "metadata": {
        "colab": {
          "base_uri": "https://localhost:8080/",
          "height": 194
        },
        "id": "zthkh03tJtws",
        "outputId": "2841fbea-3871-43d8-ca96-ec8dd5716604"
      },
      "source": [
        "load_data.head()"
      ],
      "execution_count": null,
      "outputs": [
        {
          "output_type": "execute_result",
          "data": {
            "text/html": [
              "<div>\n",
              "<style scoped>\n",
              "    .dataframe tbody tr th:only-of-type {\n",
              "        vertical-align: middle;\n",
              "    }\n",
              "\n",
              "    .dataframe tbody tr th {\n",
              "        vertical-align: top;\n",
              "    }\n",
              "\n",
              "    .dataframe thead th {\n",
              "        text-align: right;\n",
              "    }\n",
              "</style>\n",
              "<table border=\"1\" class=\"dataframe\">\n",
              "  <thead>\n",
              "    <tr style=\"text-align: right;\">\n",
              "      <th></th>\n",
              "      <th>BusID</th>\n",
              "      <th>P_KW</th>\n",
              "      <th>Q_KVAr</th>\n",
              "    </tr>\n",
              "  </thead>\n",
              "  <tbody>\n",
              "    <tr>\n",
              "      <th>0</th>\n",
              "      <td>2.0</td>\n",
              "      <td>0.0010</td>\n",
              "      <td>0.0006</td>\n",
              "    </tr>\n",
              "    <tr>\n",
              "      <th>1</th>\n",
              "      <td>3.0</td>\n",
              "      <td>0.0009</td>\n",
              "      <td>0.0004</td>\n",
              "    </tr>\n",
              "    <tr>\n",
              "      <th>2</th>\n",
              "      <td>4.0</td>\n",
              "      <td>0.0012</td>\n",
              "      <td>0.0008</td>\n",
              "    </tr>\n",
              "    <tr>\n",
              "      <th>3</th>\n",
              "      <td>5.0</td>\n",
              "      <td>0.0006</td>\n",
              "      <td>0.0003</td>\n",
              "    </tr>\n",
              "    <tr>\n",
              "      <th>4</th>\n",
              "      <td>6.0</td>\n",
              "      <td>0.0006</td>\n",
              "      <td>0.0002</td>\n",
              "    </tr>\n",
              "  </tbody>\n",
              "</table>\n",
              "</div>"
            ],
            "text/plain": [
              "   BusID    P_KW  Q_KVAr\n",
              "0    2.0  0.0010  0.0006\n",
              "1    3.0  0.0009  0.0004\n",
              "2    4.0  0.0012  0.0008\n",
              "3    5.0  0.0006  0.0003\n",
              "4    6.0  0.0006  0.0002"
            ]
          },
          "metadata": {
            "tags": []
          },
          "execution_count": 11
        }
      ]
    },
    {
      "cell_type": "markdown",
      "metadata": {
        "id": "QaiKwfQkJtws"
      },
      "source": [
        "## Load Flow Preparing Data"
      ]
    },
    {
      "cell_type": "code",
      "metadata": {
        "colab": {
          "base_uri": "https://localhost:8080/"
        },
        "id": "f0sjC66lJtws",
        "outputId": "2f09e6bb-f8ad-4efb-c6fc-d6326ca09a7d"
      },
      "source": [
        "network = pypsa.Network()\n",
        "#Add buses\n",
        "\n",
        "nbus = 33\n",
        "for i in range(1,nbus+1):\n",
        "    network.add(\"Bus\",\"Bus No {}\".format(i),\n",
        "               v_nom = 1.0)\n",
        "    \n",
        "    #Add loads\n",
        "    \n",
        "for i in range(len(load_data.BusID)):\n",
        "    network.add(\"Load\", \"Load No {}\".format(int(load_data.BusID.iloc[i])),\n",
        "           bus = \"Bus No {}\".format(int(load_data.BusID.iloc[i])),\n",
        "           p_set = load_data.P_KW.iloc[i],\n",
        "           q_set = load_data.Q_KVAr.iloc[i])\n",
        "    \n",
        "print(network.buses.head())\n",
        "print('-----------------------------------------------')\n",
        "#Add lines\n",
        "for i in range(len(line_data.ToBus.loc[:])):\n",
        "    network.add(\"Line\",\"Line {}\".format(str(line_data.FormBus.iloc[i])+str('-')+ str(line_data.ToBus.iloc[i])),              \n",
        "                bus0 = \"Bus No {}\".format(line_data.FormBus.iloc[i]),\n",
        "                bus1 = \"Bus No {}\".format(line_data.ToBus.iloc[i]),\n",
        "                r = line_data.R.iloc[i],\n",
        "                x = line_data.X.iloc[i])\n",
        "\n",
        "print(network.lines.head())\n",
        "print('-----------------------------------------------')\n",
        "#slack generator\n",
        "network.add(\"Generator\",\"Slack Gen\",\n",
        "           bus = \"Bus No 1\",\n",
        "           p_set = 0,\n",
        "           control = 'Slack')"
      ],
      "execution_count": null,
      "outputs": [
        {
          "output_type": "stream",
          "text": [
            "attribute  v_nom type    x    y  ... v_mag_pu_min  v_mag_pu_max  control  sub_network\n",
            "Bus No 1     1.0       0.0  0.0  ...          0.0           inf       PQ             \n",
            "Bus No 2     1.0       0.0  0.0  ...          0.0           inf       PQ             \n",
            "Bus No 3     1.0       0.0  0.0  ...          0.0           inf       PQ             \n",
            "Bus No 4     1.0       0.0  0.0  ...          0.0           inf       PQ             \n",
            "Bus No 5     1.0       0.0  0.0  ...          0.0           inf       PQ             \n",
            "\n",
            "[5 rows x 10 columns]\n",
            "-----------------------------------------------\n",
            "attribute      bus0      bus1 type  ...  x_pu_eff  r_pu_eff  s_nom_opt\n",
            "Line 1-2   Bus No 1  Bus No 2       ...       0.0       0.0        0.0\n",
            "Line 2-3   Bus No 2  Bus No 3       ...       0.0       0.0        0.0\n",
            "Line 3-4   Bus No 3  Bus No 4       ...       0.0       0.0        0.0\n",
            "Line 4-5   Bus No 4  Bus No 5       ...       0.0       0.0        0.0\n",
            "Line 5-6   Bus No 5  Bus No 6       ...       0.0       0.0        0.0\n",
            "\n",
            "[5 rows x 26 columns]\n",
            "-----------------------------------------------\n"
          ],
          "name": "stdout"
        }
      ]
    },
    {
      "cell_type": "code",
      "metadata": {
        "colab": {
          "base_uri": "https://localhost:8080/",
          "height": 194
        },
        "id": "Yx1hConZJtwt",
        "outputId": "b2305a29-143d-419c-ca15-1a25e95e4b89"
      },
      "source": [
        "network.buses.head()"
      ],
      "execution_count": null,
      "outputs": [
        {
          "output_type": "execute_result",
          "data": {
            "text/html": [
              "<div>\n",
              "<style scoped>\n",
              "    .dataframe tbody tr th:only-of-type {\n",
              "        vertical-align: middle;\n",
              "    }\n",
              "\n",
              "    .dataframe tbody tr th {\n",
              "        vertical-align: top;\n",
              "    }\n",
              "\n",
              "    .dataframe thead th {\n",
              "        text-align: right;\n",
              "    }\n",
              "</style>\n",
              "<table border=\"1\" class=\"dataframe\">\n",
              "  <thead>\n",
              "    <tr style=\"text-align: right;\">\n",
              "      <th>attribute</th>\n",
              "      <th>v_nom</th>\n",
              "      <th>type</th>\n",
              "      <th>x</th>\n",
              "      <th>y</th>\n",
              "      <th>carrier</th>\n",
              "      <th>v_mag_pu_set</th>\n",
              "      <th>v_mag_pu_min</th>\n",
              "      <th>v_mag_pu_max</th>\n",
              "      <th>control</th>\n",
              "      <th>sub_network</th>\n",
              "    </tr>\n",
              "  </thead>\n",
              "  <tbody>\n",
              "    <tr>\n",
              "      <th>Bus No 1</th>\n",
              "      <td>1.0</td>\n",
              "      <td></td>\n",
              "      <td>0.0</td>\n",
              "      <td>0.0</td>\n",
              "      <td>AC</td>\n",
              "      <td>1.0</td>\n",
              "      <td>0.0</td>\n",
              "      <td>inf</td>\n",
              "      <td>PQ</td>\n",
              "      <td></td>\n",
              "    </tr>\n",
              "    <tr>\n",
              "      <th>Bus No 2</th>\n",
              "      <td>1.0</td>\n",
              "      <td></td>\n",
              "      <td>0.0</td>\n",
              "      <td>0.0</td>\n",
              "      <td>AC</td>\n",
              "      <td>1.0</td>\n",
              "      <td>0.0</td>\n",
              "      <td>inf</td>\n",
              "      <td>PQ</td>\n",
              "      <td></td>\n",
              "    </tr>\n",
              "    <tr>\n",
              "      <th>Bus No 3</th>\n",
              "      <td>1.0</td>\n",
              "      <td></td>\n",
              "      <td>0.0</td>\n",
              "      <td>0.0</td>\n",
              "      <td>AC</td>\n",
              "      <td>1.0</td>\n",
              "      <td>0.0</td>\n",
              "      <td>inf</td>\n",
              "      <td>PQ</td>\n",
              "      <td></td>\n",
              "    </tr>\n",
              "    <tr>\n",
              "      <th>Bus No 4</th>\n",
              "      <td>1.0</td>\n",
              "      <td></td>\n",
              "      <td>0.0</td>\n",
              "      <td>0.0</td>\n",
              "      <td>AC</td>\n",
              "      <td>1.0</td>\n",
              "      <td>0.0</td>\n",
              "      <td>inf</td>\n",
              "      <td>PQ</td>\n",
              "      <td></td>\n",
              "    </tr>\n",
              "    <tr>\n",
              "      <th>Bus No 5</th>\n",
              "      <td>1.0</td>\n",
              "      <td></td>\n",
              "      <td>0.0</td>\n",
              "      <td>0.0</td>\n",
              "      <td>AC</td>\n",
              "      <td>1.0</td>\n",
              "      <td>0.0</td>\n",
              "      <td>inf</td>\n",
              "      <td>PQ</td>\n",
              "      <td></td>\n",
              "    </tr>\n",
              "  </tbody>\n",
              "</table>\n",
              "</div>"
            ],
            "text/plain": [
              "attribute  v_nom type    x    y  ... v_mag_pu_min  v_mag_pu_max  control  sub_network\n",
              "Bus No 1     1.0       0.0  0.0  ...          0.0           inf       PQ             \n",
              "Bus No 2     1.0       0.0  0.0  ...          0.0           inf       PQ             \n",
              "Bus No 3     1.0       0.0  0.0  ...          0.0           inf       PQ             \n",
              "Bus No 4     1.0       0.0  0.0  ...          0.0           inf       PQ             \n",
              "Bus No 5     1.0       0.0  0.0  ...          0.0           inf       PQ             \n",
              "\n",
              "[5 rows x 10 columns]"
            ]
          },
          "metadata": {
            "tags": []
          },
          "execution_count": 13
        }
      ]
    },
    {
      "cell_type": "code",
      "metadata": {
        "colab": {
          "base_uri": "https://localhost:8080/",
          "height": 298
        },
        "id": "cOUbN1oeJtwu",
        "outputId": "e97131b2-fbc9-4780-9830-473e2d7bc1e3"
      },
      "source": [
        "network.lines.head()"
      ],
      "execution_count": null,
      "outputs": [
        {
          "output_type": "execute_result",
          "data": {
            "text/html": [
              "<div>\n",
              "<style scoped>\n",
              "    .dataframe tbody tr th:only-of-type {\n",
              "        vertical-align: middle;\n",
              "    }\n",
              "\n",
              "    .dataframe tbody tr th {\n",
              "        vertical-align: top;\n",
              "    }\n",
              "\n",
              "    .dataframe thead th {\n",
              "        text-align: right;\n",
              "    }\n",
              "</style>\n",
              "<table border=\"1\" class=\"dataframe\">\n",
              "  <thead>\n",
              "    <tr style=\"text-align: right;\">\n",
              "      <th>attribute</th>\n",
              "      <th>bus0</th>\n",
              "      <th>bus1</th>\n",
              "      <th>type</th>\n",
              "      <th>x</th>\n",
              "      <th>r</th>\n",
              "      <th>g</th>\n",
              "      <th>b</th>\n",
              "      <th>s_nom</th>\n",
              "      <th>s_nom_extendable</th>\n",
              "      <th>s_nom_min</th>\n",
              "      <th>s_nom_max</th>\n",
              "      <th>s_max_pu</th>\n",
              "      <th>capital_cost</th>\n",
              "      <th>length</th>\n",
              "      <th>terrain_factor</th>\n",
              "      <th>num_parallel</th>\n",
              "      <th>v_ang_min</th>\n",
              "      <th>v_ang_max</th>\n",
              "      <th>sub_network</th>\n",
              "      <th>x_pu</th>\n",
              "      <th>r_pu</th>\n",
              "      <th>g_pu</th>\n",
              "      <th>b_pu</th>\n",
              "      <th>x_pu_eff</th>\n",
              "      <th>r_pu_eff</th>\n",
              "      <th>s_nom_opt</th>\n",
              "    </tr>\n",
              "  </thead>\n",
              "  <tbody>\n",
              "    <tr>\n",
              "      <th>Line 1-2</th>\n",
              "      <td>Bus No 1</td>\n",
              "      <td>Bus No 2</td>\n",
              "      <td></td>\n",
              "      <td>0.029324</td>\n",
              "      <td>0.057526</td>\n",
              "      <td>0.0</td>\n",
              "      <td>0.0</td>\n",
              "      <td>0.0</td>\n",
              "      <td>False</td>\n",
              "      <td>0.0</td>\n",
              "      <td>inf</td>\n",
              "      <td>1.0</td>\n",
              "      <td>0.0</td>\n",
              "      <td>0.0</td>\n",
              "      <td>1.0</td>\n",
              "      <td>1.0</td>\n",
              "      <td>-inf</td>\n",
              "      <td>inf</td>\n",
              "      <td></td>\n",
              "      <td>0.0</td>\n",
              "      <td>0.0</td>\n",
              "      <td>0.0</td>\n",
              "      <td>0.0</td>\n",
              "      <td>0.0</td>\n",
              "      <td>0.0</td>\n",
              "      <td>0.0</td>\n",
              "    </tr>\n",
              "    <tr>\n",
              "      <th>Line 2-3</th>\n",
              "      <td>Bus No 2</td>\n",
              "      <td>Bus No 3</td>\n",
              "      <td></td>\n",
              "      <td>0.156668</td>\n",
              "      <td>0.307595</td>\n",
              "      <td>0.0</td>\n",
              "      <td>0.0</td>\n",
              "      <td>0.0</td>\n",
              "      <td>False</td>\n",
              "      <td>0.0</td>\n",
              "      <td>inf</td>\n",
              "      <td>1.0</td>\n",
              "      <td>0.0</td>\n",
              "      <td>0.0</td>\n",
              "      <td>1.0</td>\n",
              "      <td>1.0</td>\n",
              "      <td>-inf</td>\n",
              "      <td>inf</td>\n",
              "      <td></td>\n",
              "      <td>0.0</td>\n",
              "      <td>0.0</td>\n",
              "      <td>0.0</td>\n",
              "      <td>0.0</td>\n",
              "      <td>0.0</td>\n",
              "      <td>0.0</td>\n",
              "      <td>0.0</td>\n",
              "    </tr>\n",
              "    <tr>\n",
              "      <th>Line 3-4</th>\n",
              "      <td>Bus No 3</td>\n",
              "      <td>Bus No 4</td>\n",
              "      <td></td>\n",
              "      <td>0.116300</td>\n",
              "      <td>0.228357</td>\n",
              "      <td>0.0</td>\n",
              "      <td>0.0</td>\n",
              "      <td>0.0</td>\n",
              "      <td>False</td>\n",
              "      <td>0.0</td>\n",
              "      <td>inf</td>\n",
              "      <td>1.0</td>\n",
              "      <td>0.0</td>\n",
              "      <td>0.0</td>\n",
              "      <td>1.0</td>\n",
              "      <td>1.0</td>\n",
              "      <td>-inf</td>\n",
              "      <td>inf</td>\n",
              "      <td></td>\n",
              "      <td>0.0</td>\n",
              "      <td>0.0</td>\n",
              "      <td>0.0</td>\n",
              "      <td>0.0</td>\n",
              "      <td>0.0</td>\n",
              "      <td>0.0</td>\n",
              "      <td>0.0</td>\n",
              "    </tr>\n",
              "    <tr>\n",
              "      <th>Line 4-5</th>\n",
              "      <td>Bus No 4</td>\n",
              "      <td>Bus No 5</td>\n",
              "      <td></td>\n",
              "      <td>0.121104</td>\n",
              "      <td>0.237778</td>\n",
              "      <td>0.0</td>\n",
              "      <td>0.0</td>\n",
              "      <td>0.0</td>\n",
              "      <td>False</td>\n",
              "      <td>0.0</td>\n",
              "      <td>inf</td>\n",
              "      <td>1.0</td>\n",
              "      <td>0.0</td>\n",
              "      <td>0.0</td>\n",
              "      <td>1.0</td>\n",
              "      <td>1.0</td>\n",
              "      <td>-inf</td>\n",
              "      <td>inf</td>\n",
              "      <td></td>\n",
              "      <td>0.0</td>\n",
              "      <td>0.0</td>\n",
              "      <td>0.0</td>\n",
              "      <td>0.0</td>\n",
              "      <td>0.0</td>\n",
              "      <td>0.0</td>\n",
              "      <td>0.0</td>\n",
              "    </tr>\n",
              "    <tr>\n",
              "      <th>Line 5-6</th>\n",
              "      <td>Bus No 5</td>\n",
              "      <td>Bus No 6</td>\n",
              "      <td></td>\n",
              "      <td>0.441115</td>\n",
              "      <td>0.510995</td>\n",
              "      <td>0.0</td>\n",
              "      <td>0.0</td>\n",
              "      <td>0.0</td>\n",
              "      <td>False</td>\n",
              "      <td>0.0</td>\n",
              "      <td>inf</td>\n",
              "      <td>1.0</td>\n",
              "      <td>0.0</td>\n",
              "      <td>0.0</td>\n",
              "      <td>1.0</td>\n",
              "      <td>1.0</td>\n",
              "      <td>-inf</td>\n",
              "      <td>inf</td>\n",
              "      <td></td>\n",
              "      <td>0.0</td>\n",
              "      <td>0.0</td>\n",
              "      <td>0.0</td>\n",
              "      <td>0.0</td>\n",
              "      <td>0.0</td>\n",
              "      <td>0.0</td>\n",
              "      <td>0.0</td>\n",
              "    </tr>\n",
              "  </tbody>\n",
              "</table>\n",
              "</div>"
            ],
            "text/plain": [
              "attribute      bus0      bus1 type  ...  x_pu_eff  r_pu_eff  s_nom_opt\n",
              "Line 1-2   Bus No 1  Bus No 2       ...       0.0       0.0        0.0\n",
              "Line 2-3   Bus No 2  Bus No 3       ...       0.0       0.0        0.0\n",
              "Line 3-4   Bus No 3  Bus No 4       ...       0.0       0.0        0.0\n",
              "Line 4-5   Bus No 4  Bus No 5       ...       0.0       0.0        0.0\n",
              "Line 5-6   Bus No 5  Bus No 6       ...       0.0       0.0        0.0\n",
              "\n",
              "[5 rows x 26 columns]"
            ]
          },
          "metadata": {
            "tags": []
          },
          "execution_count": 14
        }
      ]
    },
    {
      "cell_type": "code",
      "metadata": {
        "colab": {
          "base_uri": "https://localhost:8080/",
          "height": 130
        },
        "id": "16z9KztjJtwu",
        "outputId": "43140807-18ea-432f-a80d-bc83fe789676"
      },
      "source": [
        "network.generators"
      ],
      "execution_count": null,
      "outputs": [
        {
          "output_type": "execute_result",
          "data": {
            "text/html": [
              "<div>\n",
              "<style scoped>\n",
              "    .dataframe tbody tr th:only-of-type {\n",
              "        vertical-align: middle;\n",
              "    }\n",
              "\n",
              "    .dataframe tbody tr th {\n",
              "        vertical-align: top;\n",
              "    }\n",
              "\n",
              "    .dataframe thead th {\n",
              "        text-align: right;\n",
              "    }\n",
              "</style>\n",
              "<table border=\"1\" class=\"dataframe\">\n",
              "  <thead>\n",
              "    <tr style=\"text-align: right;\">\n",
              "      <th>attribute</th>\n",
              "      <th>bus</th>\n",
              "      <th>control</th>\n",
              "      <th>type</th>\n",
              "      <th>p_nom</th>\n",
              "      <th>p_nom_extendable</th>\n",
              "      <th>p_nom_min</th>\n",
              "      <th>p_nom_max</th>\n",
              "      <th>p_min_pu</th>\n",
              "      <th>p_max_pu</th>\n",
              "      <th>p_set</th>\n",
              "      <th>q_set</th>\n",
              "      <th>sign</th>\n",
              "      <th>carrier</th>\n",
              "      <th>marginal_cost</th>\n",
              "      <th>capital_cost</th>\n",
              "      <th>efficiency</th>\n",
              "      <th>committable</th>\n",
              "      <th>start_up_cost</th>\n",
              "      <th>shut_down_cost</th>\n",
              "      <th>min_up_time</th>\n",
              "      <th>min_down_time</th>\n",
              "      <th>up_time_before</th>\n",
              "      <th>down_time_before</th>\n",
              "      <th>ramp_limit_up</th>\n",
              "      <th>ramp_limit_down</th>\n",
              "      <th>ramp_limit_start_up</th>\n",
              "      <th>ramp_limit_shut_down</th>\n",
              "      <th>p_nom_opt</th>\n",
              "    </tr>\n",
              "  </thead>\n",
              "  <tbody>\n",
              "    <tr>\n",
              "      <th>Slack Gen</th>\n",
              "      <td>Bus No 1</td>\n",
              "      <td>Slack</td>\n",
              "      <td></td>\n",
              "      <td>0.0</td>\n",
              "      <td>False</td>\n",
              "      <td>0.0</td>\n",
              "      <td>inf</td>\n",
              "      <td>0.0</td>\n",
              "      <td>1.0</td>\n",
              "      <td>0.0</td>\n",
              "      <td>0.0</td>\n",
              "      <td>1.0</td>\n",
              "      <td></td>\n",
              "      <td>0.0</td>\n",
              "      <td>0.0</td>\n",
              "      <td>1.0</td>\n",
              "      <td>False</td>\n",
              "      <td>0.0</td>\n",
              "      <td>0.0</td>\n",
              "      <td>0</td>\n",
              "      <td>0</td>\n",
              "      <td>1</td>\n",
              "      <td>0</td>\n",
              "      <td>NaN</td>\n",
              "      <td>NaN</td>\n",
              "      <td>1.0</td>\n",
              "      <td>1.0</td>\n",
              "      <td>0.0</td>\n",
              "    </tr>\n",
              "  </tbody>\n",
              "</table>\n",
              "</div>"
            ],
            "text/plain": [
              "attribute       bus control  ... ramp_limit_shut_down  p_nom_opt\n",
              "Slack Gen  Bus No 1   Slack  ...                  1.0        0.0\n",
              "\n",
              "[1 rows x 28 columns]"
            ]
          },
          "metadata": {
            "tags": []
          },
          "execution_count": 15
        }
      ]
    },
    {
      "cell_type": "code",
      "metadata": {
        "colab": {
          "base_uri": "https://localhost:8080/",
          "height": 986
        },
        "id": "zUt-LnSlJtwv",
        "outputId": "185bf3e0-ba40-4b96-ea15-f17c545679bb"
      },
      "source": [
        "network.loads"
      ],
      "execution_count": null,
      "outputs": [
        {
          "output_type": "execute_result",
          "data": {
            "text/html": [
              "<div>\n",
              "<style scoped>\n",
              "    .dataframe tbody tr th:only-of-type {\n",
              "        vertical-align: middle;\n",
              "    }\n",
              "\n",
              "    .dataframe tbody tr th {\n",
              "        vertical-align: top;\n",
              "    }\n",
              "\n",
              "    .dataframe thead th {\n",
              "        text-align: right;\n",
              "    }\n",
              "</style>\n",
              "<table border=\"1\" class=\"dataframe\">\n",
              "  <thead>\n",
              "    <tr style=\"text-align: right;\">\n",
              "      <th>attribute</th>\n",
              "      <th>bus</th>\n",
              "      <th>type</th>\n",
              "      <th>p_set</th>\n",
              "      <th>q_set</th>\n",
              "      <th>sign</th>\n",
              "    </tr>\n",
              "  </thead>\n",
              "  <tbody>\n",
              "    <tr>\n",
              "      <th>Load No 2</th>\n",
              "      <td>Bus No 2</td>\n",
              "      <td></td>\n",
              "      <td>0.00100</td>\n",
              "      <td>0.00060</td>\n",
              "      <td>-1.0</td>\n",
              "    </tr>\n",
              "    <tr>\n",
              "      <th>Load No 3</th>\n",
              "      <td>Bus No 3</td>\n",
              "      <td></td>\n",
              "      <td>0.00090</td>\n",
              "      <td>0.00040</td>\n",
              "      <td>-1.0</td>\n",
              "    </tr>\n",
              "    <tr>\n",
              "      <th>Load No 4</th>\n",
              "      <td>Bus No 4</td>\n",
              "      <td></td>\n",
              "      <td>0.00120</td>\n",
              "      <td>0.00080</td>\n",
              "      <td>-1.0</td>\n",
              "    </tr>\n",
              "    <tr>\n",
              "      <th>Load No 5</th>\n",
              "      <td>Bus No 5</td>\n",
              "      <td></td>\n",
              "      <td>0.00060</td>\n",
              "      <td>0.00030</td>\n",
              "      <td>-1.0</td>\n",
              "    </tr>\n",
              "    <tr>\n",
              "      <th>Load No 6</th>\n",
              "      <td>Bus No 6</td>\n",
              "      <td></td>\n",
              "      <td>0.00060</td>\n",
              "      <td>0.00020</td>\n",
              "      <td>-1.0</td>\n",
              "    </tr>\n",
              "    <tr>\n",
              "      <th>Load No 7</th>\n",
              "      <td>Bus No 7</td>\n",
              "      <td></td>\n",
              "      <td>0.00200</td>\n",
              "      <td>0.00100</td>\n",
              "      <td>-1.0</td>\n",
              "    </tr>\n",
              "    <tr>\n",
              "      <th>Load No 8</th>\n",
              "      <td>Bus No 8</td>\n",
              "      <td></td>\n",
              "      <td>0.00200</td>\n",
              "      <td>0.00100</td>\n",
              "      <td>-1.0</td>\n",
              "    </tr>\n",
              "    <tr>\n",
              "      <th>Load No 9</th>\n",
              "      <td>Bus No 9</td>\n",
              "      <td></td>\n",
              "      <td>0.00060</td>\n",
              "      <td>0.00020</td>\n",
              "      <td>-1.0</td>\n",
              "    </tr>\n",
              "    <tr>\n",
              "      <th>Load No 10</th>\n",
              "      <td>Bus No 10</td>\n",
              "      <td></td>\n",
              "      <td>0.00060</td>\n",
              "      <td>0.00020</td>\n",
              "      <td>-1.0</td>\n",
              "    </tr>\n",
              "    <tr>\n",
              "      <th>Load No 11</th>\n",
              "      <td>Bus No 11</td>\n",
              "      <td></td>\n",
              "      <td>0.00045</td>\n",
              "      <td>0.00030</td>\n",
              "      <td>-1.0</td>\n",
              "    </tr>\n",
              "    <tr>\n",
              "      <th>Load No 12</th>\n",
              "      <td>Bus No 12</td>\n",
              "      <td></td>\n",
              "      <td>0.00060</td>\n",
              "      <td>0.00035</td>\n",
              "      <td>-1.0</td>\n",
              "    </tr>\n",
              "    <tr>\n",
              "      <th>Load No 13</th>\n",
              "      <td>Bus No 13</td>\n",
              "      <td></td>\n",
              "      <td>0.00060</td>\n",
              "      <td>0.00035</td>\n",
              "      <td>-1.0</td>\n",
              "    </tr>\n",
              "    <tr>\n",
              "      <th>Load No 14</th>\n",
              "      <td>Bus No 14</td>\n",
              "      <td></td>\n",
              "      <td>0.00120</td>\n",
              "      <td>0.00080</td>\n",
              "      <td>-1.0</td>\n",
              "    </tr>\n",
              "    <tr>\n",
              "      <th>Load No 15</th>\n",
              "      <td>Bus No 15</td>\n",
              "      <td></td>\n",
              "      <td>0.00060</td>\n",
              "      <td>0.00010</td>\n",
              "      <td>-1.0</td>\n",
              "    </tr>\n",
              "    <tr>\n",
              "      <th>Load No 16</th>\n",
              "      <td>Bus No 16</td>\n",
              "      <td></td>\n",
              "      <td>0.00060</td>\n",
              "      <td>0.00020</td>\n",
              "      <td>-1.0</td>\n",
              "    </tr>\n",
              "    <tr>\n",
              "      <th>Load No 17</th>\n",
              "      <td>Bus No 17</td>\n",
              "      <td></td>\n",
              "      <td>0.00060</td>\n",
              "      <td>0.00020</td>\n",
              "      <td>-1.0</td>\n",
              "    </tr>\n",
              "    <tr>\n",
              "      <th>Load No 18</th>\n",
              "      <td>Bus No 18</td>\n",
              "      <td></td>\n",
              "      <td>0.00090</td>\n",
              "      <td>0.00040</td>\n",
              "      <td>-1.0</td>\n",
              "    </tr>\n",
              "    <tr>\n",
              "      <th>Load No 19</th>\n",
              "      <td>Bus No 19</td>\n",
              "      <td></td>\n",
              "      <td>0.00090</td>\n",
              "      <td>0.00040</td>\n",
              "      <td>-1.0</td>\n",
              "    </tr>\n",
              "    <tr>\n",
              "      <th>Load No 20</th>\n",
              "      <td>Bus No 20</td>\n",
              "      <td></td>\n",
              "      <td>0.00090</td>\n",
              "      <td>0.00040</td>\n",
              "      <td>-1.0</td>\n",
              "    </tr>\n",
              "    <tr>\n",
              "      <th>Load No 21</th>\n",
              "      <td>Bus No 21</td>\n",
              "      <td></td>\n",
              "      <td>0.00090</td>\n",
              "      <td>0.00040</td>\n",
              "      <td>-1.0</td>\n",
              "    </tr>\n",
              "    <tr>\n",
              "      <th>Load No 22</th>\n",
              "      <td>Bus No 22</td>\n",
              "      <td></td>\n",
              "      <td>0.00090</td>\n",
              "      <td>0.00040</td>\n",
              "      <td>-1.0</td>\n",
              "    </tr>\n",
              "    <tr>\n",
              "      <th>Load No 23</th>\n",
              "      <td>Bus No 23</td>\n",
              "      <td></td>\n",
              "      <td>0.00090</td>\n",
              "      <td>0.00050</td>\n",
              "      <td>-1.0</td>\n",
              "    </tr>\n",
              "    <tr>\n",
              "      <th>Load No 24</th>\n",
              "      <td>Bus No 24</td>\n",
              "      <td></td>\n",
              "      <td>0.00420</td>\n",
              "      <td>0.00200</td>\n",
              "      <td>-1.0</td>\n",
              "    </tr>\n",
              "    <tr>\n",
              "      <th>Load No 25</th>\n",
              "      <td>Bus No 25</td>\n",
              "      <td></td>\n",
              "      <td>0.00420</td>\n",
              "      <td>0.00200</td>\n",
              "      <td>-1.0</td>\n",
              "    </tr>\n",
              "    <tr>\n",
              "      <th>Load No 26</th>\n",
              "      <td>Bus No 26</td>\n",
              "      <td></td>\n",
              "      <td>0.00060</td>\n",
              "      <td>0.00025</td>\n",
              "      <td>-1.0</td>\n",
              "    </tr>\n",
              "    <tr>\n",
              "      <th>Load No 27</th>\n",
              "      <td>Bus No 27</td>\n",
              "      <td></td>\n",
              "      <td>0.00060</td>\n",
              "      <td>0.00025</td>\n",
              "      <td>-1.0</td>\n",
              "    </tr>\n",
              "    <tr>\n",
              "      <th>Load No 28</th>\n",
              "      <td>Bus No 28</td>\n",
              "      <td></td>\n",
              "      <td>0.00060</td>\n",
              "      <td>0.00020</td>\n",
              "      <td>-1.0</td>\n",
              "    </tr>\n",
              "    <tr>\n",
              "      <th>Load No 29</th>\n",
              "      <td>Bus No 29</td>\n",
              "      <td></td>\n",
              "      <td>0.00120</td>\n",
              "      <td>0.00070</td>\n",
              "      <td>-1.0</td>\n",
              "    </tr>\n",
              "    <tr>\n",
              "      <th>Load No 30</th>\n",
              "      <td>Bus No 30</td>\n",
              "      <td></td>\n",
              "      <td>0.00200</td>\n",
              "      <td>0.00600</td>\n",
              "      <td>-1.0</td>\n",
              "    </tr>\n",
              "    <tr>\n",
              "      <th>Load No 31</th>\n",
              "      <td>Bus No 31</td>\n",
              "      <td></td>\n",
              "      <td>0.00150</td>\n",
              "      <td>0.00070</td>\n",
              "      <td>-1.0</td>\n",
              "    </tr>\n",
              "    <tr>\n",
              "      <th>Load No 32</th>\n",
              "      <td>Bus No 32</td>\n",
              "      <td></td>\n",
              "      <td>0.00210</td>\n",
              "      <td>0.00100</td>\n",
              "      <td>-1.0</td>\n",
              "    </tr>\n",
              "    <tr>\n",
              "      <th>Load No 33</th>\n",
              "      <td>Bus No 33</td>\n",
              "      <td></td>\n",
              "      <td>0.00060</td>\n",
              "      <td>0.00040</td>\n",
              "      <td>-1.0</td>\n",
              "    </tr>\n",
              "  </tbody>\n",
              "</table>\n",
              "</div>"
            ],
            "text/plain": [
              "attribute         bus type    p_set    q_set  sign\n",
              "Load No 2    Bus No 2       0.00100  0.00060  -1.0\n",
              "Load No 3    Bus No 3       0.00090  0.00040  -1.0\n",
              "Load No 4    Bus No 4       0.00120  0.00080  -1.0\n",
              "Load No 5    Bus No 5       0.00060  0.00030  -1.0\n",
              "Load No 6    Bus No 6       0.00060  0.00020  -1.0\n",
              "Load No 7    Bus No 7       0.00200  0.00100  -1.0\n",
              "Load No 8    Bus No 8       0.00200  0.00100  -1.0\n",
              "Load No 9    Bus No 9       0.00060  0.00020  -1.0\n",
              "Load No 10  Bus No 10       0.00060  0.00020  -1.0\n",
              "Load No 11  Bus No 11       0.00045  0.00030  -1.0\n",
              "Load No 12  Bus No 12       0.00060  0.00035  -1.0\n",
              "Load No 13  Bus No 13       0.00060  0.00035  -1.0\n",
              "Load No 14  Bus No 14       0.00120  0.00080  -1.0\n",
              "Load No 15  Bus No 15       0.00060  0.00010  -1.0\n",
              "Load No 16  Bus No 16       0.00060  0.00020  -1.0\n",
              "Load No 17  Bus No 17       0.00060  0.00020  -1.0\n",
              "Load No 18  Bus No 18       0.00090  0.00040  -1.0\n",
              "Load No 19  Bus No 19       0.00090  0.00040  -1.0\n",
              "Load No 20  Bus No 20       0.00090  0.00040  -1.0\n",
              "Load No 21  Bus No 21       0.00090  0.00040  -1.0\n",
              "Load No 22  Bus No 22       0.00090  0.00040  -1.0\n",
              "Load No 23  Bus No 23       0.00090  0.00050  -1.0\n",
              "Load No 24  Bus No 24       0.00420  0.00200  -1.0\n",
              "Load No 25  Bus No 25       0.00420  0.00200  -1.0\n",
              "Load No 26  Bus No 26       0.00060  0.00025  -1.0\n",
              "Load No 27  Bus No 27       0.00060  0.00025  -1.0\n",
              "Load No 28  Bus No 28       0.00060  0.00020  -1.0\n",
              "Load No 29  Bus No 29       0.00120  0.00070  -1.0\n",
              "Load No 30  Bus No 30       0.00200  0.00600  -1.0\n",
              "Load No 31  Bus No 31       0.00150  0.00070  -1.0\n",
              "Load No 32  Bus No 32       0.00210  0.00100  -1.0\n",
              "Load No 33  Bus No 33       0.00060  0.00040  -1.0"
            ]
          },
          "metadata": {
            "tags": []
          },
          "execution_count": 16
        }
      ]
    },
    {
      "cell_type": "code",
      "metadata": {
        "colab": {
          "base_uri": "https://localhost:8080/",
          "height": 318
        },
        "id": "s098etUsJtww",
        "outputId": "47fcb39e-6863-497f-f9fa-5d5f95f0b4d5"
      },
      "source": [
        "network.pf()\n",
        "network.buses_t.v_mag_pu.iloc[0][:].plot()"
      ],
      "execution_count": null,
      "outputs": [
        {
          "output_type": "stream",
          "text": [
            "INFO:pypsa.pf:Performing non-linear load-flow on AC sub-network SubNetwork 0 for snapshots Index(['now'], dtype='object')\n",
            "INFO:pypsa.pf:Newton-Raphson solved in 3 iterations with error of 0.000000 in 0.038877 seconds\n"
          ],
          "name": "stderr"
        },
        {
          "output_type": "execute_result",
          "data": {
            "text/plain": [
              "<matplotlib.axes._subplots.AxesSubplot at 0x7f1f70a11fd0>"
            ]
          },
          "metadata": {
            "tags": []
          },
          "execution_count": 17
        },
        {
          "output_type": "display_data",
          "data": {
            "image/png": "[encoded data removed]",
            "text/plain": [
              "<Figure size 432x288 with 1 Axes>"
            ]
          },
          "metadata": {
            "tags": [],
            "needs_background": "light"
          }
        }
      ]
    },
    {
      "cell_type": "code",
      "metadata": {
        "colab": {
          "base_uri": "https://localhost:8080/",
          "height": 130
        },
        "id": "PvZykVH8Jtww",
        "outputId": "9d54cbfc-4c3e-4f18-9445-bb0c1975b4c5"
      },
      "source": [
        "network.buses_t.v_mag_pu"
      ],
      "execution_count": null,
      "outputs": [
        {
          "output_type": "execute_result",
          "data": {
            "text/html": [
              "<div>\n",
              "<style scoped>\n",
              "    .dataframe tbody tr th:only-of-type {\n",
              "        vertical-align: middle;\n",
              "    }\n",
              "\n",
              "    .dataframe tbody tr th {\n",
              "        vertical-align: top;\n",
              "    }\n",
              "\n",
              "    .dataframe thead th {\n",
              "        text-align: right;\n",
              "    }\n",
              "</style>\n",
              "<table border=\"1\" class=\"dataframe\">\n",
              "  <thead>\n",
              "    <tr style=\"text-align: right;\">\n",
              "      <th></th>\n",
              "      <th>Bus No 1</th>\n",
              "      <th>Bus No 2</th>\n",
              "      <th>Bus No 3</th>\n",
              "      <th>Bus No 4</th>\n",
              "      <th>Bus No 5</th>\n",
              "      <th>Bus No 6</th>\n",
              "      <th>Bus No 7</th>\n",
              "      <th>Bus No 8</th>\n",
              "      <th>Bus No 9</th>\n",
              "      <th>Bus No 10</th>\n",
              "      <th>Bus No 11</th>\n",
              "      <th>Bus No 12</th>\n",
              "      <th>Bus No 13</th>\n",
              "      <th>Bus No 14</th>\n",
              "      <th>Bus No 15</th>\n",
              "      <th>Bus No 16</th>\n",
              "      <th>Bus No 17</th>\n",
              "      <th>Bus No 18</th>\n",
              "      <th>Bus No 19</th>\n",
              "      <th>Bus No 20</th>\n",
              "      <th>Bus No 21</th>\n",
              "      <th>Bus No 22</th>\n",
              "      <th>Bus No 23</th>\n",
              "      <th>Bus No 24</th>\n",
              "      <th>Bus No 25</th>\n",
              "      <th>Bus No 26</th>\n",
              "      <th>Bus No 27</th>\n",
              "      <th>Bus No 28</th>\n",
              "      <th>Bus No 29</th>\n",
              "      <th>Bus No 30</th>\n",
              "      <th>Bus No 31</th>\n",
              "      <th>Bus No 32</th>\n",
              "      <th>Bus No 33</th>\n",
              "    </tr>\n",
              "  </thead>\n",
              "  <tbody>\n",
              "    <tr>\n",
              "      <th>now</th>\n",
              "      <td>1.0</td>\n",
              "      <td>0.997024</td>\n",
              "      <td>0.982885</td>\n",
              "      <td>0.975371</td>\n",
              "      <td>0.96794</td>\n",
              "      <td>0.949451</td>\n",
              "      <td>0.945924</td>\n",
              "      <td>0.932247</td>\n",
              "      <td>0.925901</td>\n",
              "      <td>0.920031</td>\n",
              "      <td>0.916872</td>\n",
              "      <td>0.915353</td>\n",
              "      <td>0.909161</td>\n",
              "      <td>0.906865</td>\n",
              "      <td>0.905435</td>\n",
              "      <td>0.904049</td>\n",
              "      <td>0.901996</td>\n",
              "      <td>0.901638</td>\n",
              "      <td>0.996496</td>\n",
              "      <td>0.992918</td>\n",
              "      <td>0.992213</td>\n",
              "      <td>0.991576</td>\n",
              "      <td>0.9793</td>\n",
              "      <td>0.972628</td>\n",
              "      <td>0.969303</td>\n",
              "      <td>0.947522</td>\n",
              "      <td>0.944957</td>\n",
              "      <td>0.933515</td>\n",
              "      <td>0.925295</td>\n",
              "      <td>0.921737</td>\n",
              "      <td>0.917575</td>\n",
              "      <td>0.916659</td>\n",
              "      <td>0.916375</td>\n",
              "    </tr>\n",
              "  </tbody>\n",
              "</table>\n",
              "</div>"
            ],
            "text/plain": [
              "     Bus No 1  Bus No 2  Bus No 3  ...  Bus No 31  Bus No 32  Bus No 33\n",
              "now       1.0  0.997024  0.982885  ...   0.917575   0.916659   0.916375\n",
              "\n",
              "[1 rows x 33 columns]"
            ]
          },
          "metadata": {
            "tags": []
          },
          "execution_count": 18
        }
      ]
    },
    {
      "cell_type": "code",
      "metadata": {
        "colab": {
          "base_uri": "https://localhost:8080/",
          "height": 283
        },
        "id": "JcZ1EGE9Jtww",
        "outputId": "6c418c23-0390-4157-8d9d-769a79b1a966"
      },
      "source": [
        "network.buses_t.v_mag_pu.iloc[0][:].plot()"
      ],
      "execution_count": null,
      "outputs": [
        {
          "output_type": "execute_result",
          "data": {
            "text/plain": [
              "<matplotlib.axes._subplots.AxesSubplot at 0x7f1f708e9c10>"
            ]
          },
          "metadata": {
            "tags": []
          },
          "execution_count": 19
        },
        {
          "output_type": "display_data",
          "data": {
            "image/png": "[encoded data removed]",
            "text/plain": [
              "<Figure size 432x288 with 1 Axes>"
            ]
          },
          "metadata": {
            "tags": [],
            "needs_background": "light"
          }
        }
      ]
    },
    {
      "cell_type": "code",
      "metadata": {
        "id": "-StzWKiuJtwx"
      },
      "source": [
        ""
      ],
      "execution_count": null,
      "outputs": []
    },
    {
      "cell_type": "code",
      "metadata": {
        "id": "aNL1M63FJtwx"
      },
      "source": [
        ""
      ],
      "execution_count": null,
      "outputs": []
    },
    {
      "cell_type": "code",
      "metadata": {
        "id": "B1XAVCCMJtwx"
      },
      "source": [
        ""
      ],
      "execution_count": null,
      "outputs": []
    },
    {
      "cell_type": "code",
      "metadata": {
        "id": "bPGxb65YJtwx"
      },
      "source": [
        ""
      ],
      "execution_count": null,
      "outputs": []
    },
    {
      "cell_type": "code",
      "metadata": {
        "id": "z5Y1ALiuJtwx"
      },
      "source": [
        ""
      ],
      "execution_count": null,
      "outputs": []
    },
    {
      "cell_type": "code",
      "metadata": {
        "id": "67KD3WZRJtwx"
      },
      "source": [
        ""
      ],
      "execution_count": null,
      "outputs": []
    },
    {
      "cell_type": "code",
      "metadata": {
        "id": "GliXeRp3Jtwy"
      },
      "source": [
        ""
      ],
      "execution_count": null,
      "outputs": []
    },
    {
      "cell_type": "code",
      "metadata": {
        "id": "teb_spTBJtwy"
      },
      "source": [
        ""
      ],
      "execution_count": null,
      "outputs": []
    },
    {
      "cell_type": "code",
      "metadata": {
        "id": "CUBjyUWGJtwy"
      },
      "source": [
        ""
      ],
      "execution_count": null,
      "outputs": []
    }
  ]
}